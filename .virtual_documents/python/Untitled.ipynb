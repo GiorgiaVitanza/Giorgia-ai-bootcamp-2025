'''Usare l’API di WhiskyHunter per scaricare dati in formato JSON e analizzarli all’interno di un
Jupyter notebook
Ad esempio: quando è stata venduta la bottiglia più cara e a che prezzo? Quale marca?'''
import pandas as pd
from matplotlib import pyplot as plt
import seaborn as sns

data_path = "WhiskyHunterData.json"
with open(data_path,newline='') as fd:
    reader = pd.read_json(fd)
    df = pd.DataFrame(reader)







df.info()





df.describe()





df.isnull().sum()





date_max_winning_idx = df['winning_bid_max'].idxmax()
date_max_winning = df['dt'][date_max_winning_idx]


date_max_winning





max_price = df['winning_bid_max'][date_max_winning_idx]





auction_name_max = df['auction_name'][date_max_winning_idx]
auction_name_max


last_date_idx = df['dt'].idxmax()
first_date_idx =  df['dt'].idxmin()
last_date = df['dt'][last_date_idx]
first_date = df['dt'][first_date_idx]


last_date


first_date





plt.plot(df['auction_lots_count'])
plt.show()






