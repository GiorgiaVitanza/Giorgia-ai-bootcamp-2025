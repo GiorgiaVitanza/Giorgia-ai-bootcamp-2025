{
 "cells": [
  {
   "cell_type": "code",
   "execution_count": 1,
   "id": "a9ff0f52-04f0-472d-b2e0-c865aa5266ac",
   "metadata": {},
   "outputs": [],
   "source": [
    "'''Usare l’API di WhiskyHunter per scaricare dati in formato JSON e analizzarli all’interno di un\n",
    "Jupyter notebook\n",
    "Ad esempio: quando è stata venduta la bottiglia più cara e a che prezzo? Quale marca?'''\n",
    "import pandas as pd\n",
    "from matplotlib import pyplot as plt\n",
    "import seaborn as sns\n",
    "\n",
    "data_path = \"WhiskyHunterData.json\"\n",
    "with open(data_path,newline='') as fd:\n",
    "    reader = pd.read_json(fd)\n",
    "    df = pd.DataFrame(reader)\n",
    "\n"
   ]
  },
  {
   "cell_type": "markdown",
   "id": "6e6fc4c7-7adf-482c-ab05-5ab3af76feea",
   "metadata": {},
   "source": [
    "Analizzo i dati di Whisky Hunter API guardando le info generali."
   ]
  },
  {
   "cell_type": "code",
   "execution_count": 2,
   "id": "68e6a35a-7f5d-4b7a-a1f7-cdc2c20852b0",
   "metadata": {},
   "outputs": [
    {
     "name": "stdout",
     "output_type": "stream",
     "text": [
      "<class 'pandas.core.frame.DataFrame'>\n",
      "RangeIndex: 2226 entries, 0 to 2225\n",
      "Data columns (total 9 columns):\n",
      " #   Column                   Non-Null Count  Dtype  \n",
      "---  ------                   --------------  -----  \n",
      " 0   dt                       2226 non-null   object \n",
      " 1   winning_bid_max          2226 non-null   float64\n",
      " 2   winning_bid_min          2226 non-null   float64\n",
      " 3   winning_bid_mean         2226 non-null   float64\n",
      " 4   auction_trading_volume   2226 non-null   float64\n",
      " 5   auction_lots_count       2226 non-null   int64  \n",
      " 6   all_auctions_lots_count  2226 non-null   int64  \n",
      " 7   auction_name             2226 non-null   object \n",
      " 8   auction_slug             2226 non-null   object \n",
      "dtypes: float64(4), int64(2), object(3)\n",
      "memory usage: 156.6+ KB\n"
     ]
    }
   ],
   "source": [
    "df.info()"
   ]
  },
  {
   "cell_type": "markdown",
   "id": "00e7aff9-ea6f-4ac6-be32-27e3e13028ac",
   "metadata": {},
   "source": [
    "Vedo un'analisi statistica descrittiva del dataframe"
   ]
  },
  {
   "cell_type": "code",
   "execution_count": 3,
   "id": "7a28eb70-8786-471a-aa30-6bd6bc02d635",
   "metadata": {},
   "outputs": [
    {
     "data": {
      "text/html": [
       "<div>\n",
       "<style scoped>\n",
       "    .dataframe tbody tr th:only-of-type {\n",
       "        vertical-align: middle;\n",
       "    }\n",
       "\n",
       "    .dataframe tbody tr th {\n",
       "        vertical-align: top;\n",
       "    }\n",
       "\n",
       "    .dataframe thead th {\n",
       "        text-align: right;\n",
       "    }\n",
       "</style>\n",
       "<table border=\"1\" class=\"dataframe\">\n",
       "  <thead>\n",
       "    <tr style=\"text-align: right;\">\n",
       "      <th></th>\n",
       "      <th>winning_bid_max</th>\n",
       "      <th>winning_bid_min</th>\n",
       "      <th>winning_bid_mean</th>\n",
       "      <th>auction_trading_volume</th>\n",
       "      <th>auction_lots_count</th>\n",
       "      <th>all_auctions_lots_count</th>\n",
       "    </tr>\n",
       "  </thead>\n",
       "  <tbody>\n",
       "    <tr>\n",
       "      <th>count</th>\n",
       "      <td>2.226000e+03</td>\n",
       "      <td>2226.000000</td>\n",
       "      <td>2226.000000</td>\n",
       "      <td>2.226000e+03</td>\n",
       "      <td>2226.000000</td>\n",
       "      <td>2226.000000</td>\n",
       "    </tr>\n",
       "    <tr>\n",
       "      <th>mean</th>\n",
       "      <td>2.552576e+04</td>\n",
       "      <td>65.954407</td>\n",
       "      <td>532.040090</td>\n",
       "      <td>5.070588e+05</td>\n",
       "      <td>1814.468553</td>\n",
       "      <td>31620.738544</td>\n",
       "    </tr>\n",
       "    <tr>\n",
       "      <th>std</th>\n",
       "      <td>8.067146e+04</td>\n",
       "      <td>2020.971299</td>\n",
       "      <td>2779.888677</td>\n",
       "      <td>7.703644e+05</td>\n",
       "      <td>2301.626815</td>\n",
       "      <td>16270.286741</td>\n",
       "    </tr>\n",
       "    <tr>\n",
       "      <th>min</th>\n",
       "      <td>5.500000e+01</td>\n",
       "      <td>0.000000</td>\n",
       "      <td>13.730000</td>\n",
       "      <td>4.200000e+02</td>\n",
       "      <td>1.000000</td>\n",
       "      <td>582.000000</td>\n",
       "    </tr>\n",
       "    <tr>\n",
       "      <th>25%</th>\n",
       "      <td>3.967300e+03</td>\n",
       "      <td>2.500000</td>\n",
       "      <td>168.310000</td>\n",
       "      <td>8.159146e+04</td>\n",
       "      <td>328.500000</td>\n",
       "      <td>16312.000000</td>\n",
       "    </tr>\n",
       "    <tr>\n",
       "      <th>50%</th>\n",
       "      <td>8.329000e+03</td>\n",
       "      <td>5.000000</td>\n",
       "      <td>226.620000</td>\n",
       "      <td>2.247535e+05</td>\n",
       "      <td>931.000000</td>\n",
       "      <td>36401.000000</td>\n",
       "    </tr>\n",
       "    <tr>\n",
       "      <th>75%</th>\n",
       "      <td>1.950000e+04</td>\n",
       "      <td>15.000000</td>\n",
       "      <td>312.202500</td>\n",
       "      <td>5.402808e+05</td>\n",
       "      <td>2260.500000</td>\n",
       "      <td>44324.000000</td>\n",
       "    </tr>\n",
       "    <tr>\n",
       "      <th>max</th>\n",
       "      <td>1.750000e+06</td>\n",
       "      <td>95000.000000</td>\n",
       "      <td>95000.000000</td>\n",
       "      <td>6.310810e+06</td>\n",
       "      <td>16274.000000</td>\n",
       "      <td>55890.000000</td>\n",
       "    </tr>\n",
       "  </tbody>\n",
       "</table>\n",
       "</div>"
      ],
      "text/plain": [
       "       winning_bid_max  winning_bid_min  winning_bid_mean  \\\n",
       "count     2.226000e+03      2226.000000       2226.000000   \n",
       "mean      2.552576e+04        65.954407        532.040090   \n",
       "std       8.067146e+04      2020.971299       2779.888677   \n",
       "min       5.500000e+01         0.000000         13.730000   \n",
       "25%       3.967300e+03         2.500000        168.310000   \n",
       "50%       8.329000e+03         5.000000        226.620000   \n",
       "75%       1.950000e+04        15.000000        312.202500   \n",
       "max       1.750000e+06     95000.000000      95000.000000   \n",
       "\n",
       "       auction_trading_volume  auction_lots_count  all_auctions_lots_count  \n",
       "count            2.226000e+03         2226.000000              2226.000000  \n",
       "mean             5.070588e+05         1814.468553             31620.738544  \n",
       "std              7.703644e+05         2301.626815             16270.286741  \n",
       "min              4.200000e+02            1.000000               582.000000  \n",
       "25%              8.159146e+04          328.500000             16312.000000  \n",
       "50%              2.247535e+05          931.000000             36401.000000  \n",
       "75%              5.402808e+05         2260.500000             44324.000000  \n",
       "max              6.310810e+06        16274.000000             55890.000000  "
      ]
     },
     "execution_count": 3,
     "metadata": {},
     "output_type": "execute_result"
    }
   ],
   "source": [
    "df.describe()"
   ]
  },
  {
   "cell_type": "markdown",
   "id": "2917ed4b-239a-4fc0-848a-bc8dce1d2dc7",
   "metadata": {},
   "source": [
    "Controllo se ci sono elementi nan"
   ]
  },
  {
   "cell_type": "code",
   "execution_count": 4,
   "id": "da2f927f-758a-41d4-9bcf-3bd3a0256ff2",
   "metadata": {},
   "outputs": [
    {
     "data": {
      "text/plain": [
       "dt                         0\n",
       "winning_bid_max            0\n",
       "winning_bid_min            0\n",
       "winning_bid_mean           0\n",
       "auction_trading_volume     0\n",
       "auction_lots_count         0\n",
       "all_auctions_lots_count    0\n",
       "auction_name               0\n",
       "auction_slug               0\n",
       "dtype: int64"
      ]
     },
     "execution_count": 4,
     "metadata": {},
     "output_type": "execute_result"
    }
   ],
   "source": [
    "df.isnull().sum()"
   ]
  },
  {
   "cell_type": "markdown",
   "id": "ce0602df-1f10-48b0-8b9e-e9ecf5b4c452",
   "metadata": {},
   "source": [
    "Non sono presenti elementi nan. \n",
    "Quando è stata venduta la bottiglia più cara?\n",
    "Controllo la colonna winning_bid_max (massima offerta vincente)"
   ]
  },
  {
   "cell_type": "code",
   "execution_count": 29,
   "id": "5a7e3de9-6170-4f84-bd4b-b7422a8826eb",
   "metadata": {},
   "outputs": [],
   "source": [
    "date_max_winning_idx = df['winning_bid_max'].idxmax()\n",
    "date_max_winning = df['dt'][date_max_winning_idx]"
   ]
  },
  {
   "cell_type": "code",
   "execution_count": 30,
   "id": "fbede9f9-95df-4b34-b3b6-15427bf92177",
   "metadata": {},
   "outputs": [
    {
     "data": {
      "text/plain": [
       "'2023-11-01'"
      ]
     },
     "execution_count": 30,
     "metadata": {},
     "output_type": "execute_result"
    }
   ],
   "source": [
    "date_max_winning"
   ]
  },
  {
   "cell_type": "markdown",
   "id": "69e3cd9f-f478-48f4-96f8-563cc5d775c5",
   "metadata": {},
   "source": [
    "La bottiglia più cara è stata venduta in data: date_max\n",
    "A che prezzo?"
   ]
  },
  {
   "cell_type": "code",
   "execution_count": 34,
   "id": "5ee53ddb-0015-4d57-b004-05a5deb8aabb",
   "metadata": {},
   "outputs": [
    {
     "data": {
      "text/plain": [
       "np.float64(1750000.0)"
      ]
     },
     "execution_count": 34,
     "metadata": {},
     "output_type": "execute_result"
    }
   ],
   "source": [
    "max_price = df['winning_bid_max'][date_max_winning_idx]"
   ]
  },
  {
   "cell_type": "markdown",
   "id": "4b089a9a-bc5a-43bb-a51a-fedc4b64a76d",
   "metadata": {},
   "source": [
    "Quale marca?"
   ]
  },
  {
   "cell_type": "code",
   "execution_count": 36,
   "id": "0dab6fa1-a112-4afd-9599-60b4d93dda7b",
   "metadata": {},
   "outputs": [
    {
     "data": {
      "text/plain": [
       "\"Sotheby's Whisky Auction\""
      ]
     },
     "execution_count": 36,
     "metadata": {},
     "output_type": "execute_result"
    }
   ],
   "source": [
    "auction_name_max = df['auction_name'][date_max_winning_idx]\n",
    "auction_name_max"
   ]
  },
  {
   "cell_type": "code",
   "execution_count": 31,
   "id": "9768d17a-b2fd-4953-be5f-0081083c04ae",
   "metadata": {},
   "outputs": [],
   "source": [
    "last_date_idx = df['dt'].idxmax()\n",
    "first_date_idx =  df['dt'].idxmin()\n",
    "last_date = df['dt'][last_date_idx]\n",
    "first_date = df['dt'][first_date_idx]"
   ]
  },
  {
   "cell_type": "code",
   "execution_count": 32,
   "id": "67202d3f-14e0-441d-89d2-d664cc1fdd09",
   "metadata": {},
   "outputs": [
    {
     "data": {
      "text/plain": [
       "'2025-01-01'"
      ]
     },
     "execution_count": 32,
     "metadata": {},
     "output_type": "execute_result"
    }
   ],
   "source": [
    "last_date"
   ]
  },
  {
   "cell_type": "code",
   "execution_count": 33,
   "id": "9e8fc713-2054-41b1-9eec-e8cf51514e5c",
   "metadata": {},
   "outputs": [
    {
     "data": {
      "text/plain": [
       "'2005-11-01'"
      ]
     },
     "execution_count": 33,
     "metadata": {},
     "output_type": "execute_result"
    }
   ],
   "source": [
    "first_date"
   ]
  },
  {
   "cell_type": "markdown",
   "id": "777fd7bd-bc76-45d0-a38d-af22837bd6a2",
   "metadata": {},
   "source": [
    "Plot sui lotti contati per ogni asta"
   ]
  },
  {
   "cell_type": "code",
   "execution_count": 39,
   "id": "d683e2e5-973c-43ed-9176-42ce422e23b3",
   "metadata": {},
   "outputs": [
    {
     "data": {
      "image/png": "[encoded data removed]",
      "text/plain": [
       "<Figure size 640x480 with 1 Axes>"
      ]
     },
     "metadata": {},
     "output_type": "display_data"
    }
   ],
   "source": [
    "plt.plot(df['auction_lots_count'])\n",
    "plt.show()"
   ]
  },
  {
   "cell_type": "code",
   "execution_count": 43,
   "id": "477774aa-e9a4-42d0-9037-3d1075ae1f90",
   "metadata": {},
   "outputs": [
    {
     "data": {
      "text/plain": [
       "<Axes: xlabel='auction_lots_count', ylabel='Count'>"
      ]
     },
     "execution_count": 43,
     "metadata": {},
     "output_type": "execute_result"
    },
    {
     "data": {
      "image/png": "[encoded data removed]",
      "text/plain": [
       "<Figure size 640x480 with 1 Axes>"
      ]
     },
     "metadata": {},
     "output_type": "display_data"
    }
   ],
   "source": [
    "sns.histplot(df['auction_lots_count'],bins = 20, kde = True)"
   ]
  },
  {
   "cell_type": "code",
   "execution_count": null,
   "id": "79d1de4b-e1a8-4ab4-8b79-3cb34351527b",
   "metadata": {},
   "outputs": [],
   "source": []
  }
 ],
 "metadata": {
  "kernelspec": {
   "display_name": "Python 3 (ipykernel)",
   "language": "python",
   "name": "python3"
  },
  "language_info": {
   "codemirror_mode": {
    "name": "ipython",
    "version": 3
   },
   "file_extension": ".py",
   "mimetype": "text/x-python",
   "name": "python",
   "nbconvert_exporter": "python",
   "pygments_lexer": "ipython3",
   "version": "3.13.1"
  }
 },
 "nbformat": 4,
 "nbformat_minor": 5
}
